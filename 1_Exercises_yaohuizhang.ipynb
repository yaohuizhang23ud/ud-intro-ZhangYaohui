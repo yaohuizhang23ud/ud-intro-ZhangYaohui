{
 "cells": [
  {
   "cell_type": "markdown",
   "id": "38e188a5",
   "metadata": {},
   "source": [
    "# Exercise 00\n",
    "Write a piece of code that allocates a list of 20 integers and initializes each element by its index multiplied by 5. Print the result."
   ]
  },
  {
   "cell_type": "code",
   "execution_count": 6,
   "id": "01aa4f35",
   "metadata": {},
   "outputs": [
    {
     "name": "stdout",
     "output_type": "stream",
     "text": [
      "[0, 5, 10, 15, 20, 25, 30, 35, 40, 45, 50, 55, 60, 65, 70, 75, 80, 85, 90, 95]\n"
     ]
    }
   ],
   "source": [
    "resultlist = []\n",
    "\n",
    "for i in range(20):\n",
    "   \n",
    "    value = i * 5\n",
    "\n",
    "    resultlist.append(value)\n",
    "\n",
    "print(resultlist)"
   ]
  },
  {
   "cell_type": "markdown",
   "id": "529d91ae",
   "metadata": {},
   "source": [
    "# Exercise 01\n",
    "Define a function that takes an integer as input, prints  all integers that it is divisable by, and returns the largest one."
   ]
  },
  {
   "cell_type": "code",
   "execution_count": 2,
   "id": "30e79132",
   "metadata": {},
   "outputs": [
    {
     "name": "stdout",
     "output_type": "stream",
     "text": [
      "Integers divisible by 12:\n",
      "1\n",
      "2\n",
      "3\n",
      "4\n",
      "6\n",
      "12\n",
      "The largest integer divisible by 12 is 12\n"
     ]
    }
   ],
   "source": [
    "def find_and_print_divisibles(n):\n",
    "    largest_divisible = None\n",
    "    \n",
    "    print(f\"Integers divisible by {n}:\")\n",
    "    for i in range(1, n + 1):\n",
    "        if n % i == 0:\n",
    "            print(i)\n",
    "            largest_divisible = i  \n",
    "    \n",
    "    return largest_divisible\n",
    "\n",
    "input_number = 12 \n",
    "largest = find_and_print_divisibles(input_number)\n",
    "if largest is not None:\n",
    "    print(f\"The largest integer divisible by {input_number} is {largest}\")\n",
    "else:\n",
    "    print(f\"{input_number} is not divisible by any integers.\")"
   ]
  },
  {
   "cell_type": "markdown",
   "id": "cfbe30d4",
   "metadata": {},
   "source": [
    "# Exercise 02\n",
    "- create a dictionary with 6 keys and values of your choice\n",
    "- write a function that takes a dictionary and a value as input and returns whether the value occurs as a key in the dictionary\n",
    "- write a function that takes a dictionary as input, and returns the dictionary but the keys are swapped with their values (resolve the issue if a value occurs twice!)"
   ]
  },
  {
   "cell_type": "code",
   "execution_count": 3,
   "id": "2123f1c6",
   "metadata": {},
   "outputs": [
    {
     "name": "stdout",
     "output_type": "stream",
     "text": [
      "Does 'fruit' occur as a key in the dictionary? False\n",
      "Original dictionary:\n",
      "{'apple': 'fruit', 'carrot': 'vegetable', 'banana': 'fruit', 'broccoli': 'vegetable', 'chicken': 'protein', 'rice': 'grain'}\n",
      "Dictionary with keys and values swapped:\n",
      "{'fruit': ['apple', 'banana'], 'vegetable': ['carrot', 'broccoli'], 'protein': 'chicken', 'grain': 'rice'}\n"
     ]
    }
   ],
   "source": [
    "sample_dict = { 'apple': 'fruit',\n",
    "    'carrot': 'vegetable',\n",
    "    'banana': 'fruit',\n",
    "    'broccoli': 'vegetable',\n",
    "    'chicken': 'protein',\n",
    "    'rice': 'grain'}\n",
    "\n",
    "\n",
    "def check_value_in_dict(input_dict, value):\n",
    "    return value in input_dict.keys()\n",
    "\n",
    "\n",
    "def swap_keys_and_values(input_dict):\n",
    "    swapped_dict = {}\n",
    "    for key, value in input_dict.items():\n",
    "        if value in swapped_dict:\n",
    "            \n",
    "            if not isinstance(swapped_dict[value], list):\n",
    "                swapped_dict[value] = [swapped_dict[value]]\n",
    "            swapped_dict[value].append(key)\n",
    "        else:\n",
    "            swapped_dict[value] = key\n",
    "    return swapped_dict\n",
    "\n",
    "\n",
    "value_to_check = 'fruit'\n",
    "print(f\"Does '{value_to_check}' occur as a key in the dictionary? {check_value_in_dict(sample_dict, value_to_check)}\")\n",
    "\n",
    "swapped_result = swap_keys_and_values(sample_dict)\n",
    "print(\"Original dictionary:\")\n",
    "print(sample_dict)\n",
    "print(\"Dictionary with keys and values swapped:\")\n",
    "print(swapped_result)"
   ]
  },
  {
   "cell_type": "markdown",
   "id": "b4b4e426",
   "metadata": {},
   "source": [
    "# Exercise 03\n",
    "Define a function that creates a dictionary of the first n fibonacci numbers as values paired with their indices as keys. "
   ]
  },
  {
   "cell_type": "code",
   "execution_count": 5,
   "id": "7845b5a4",
   "metadata": {},
   "outputs": [
    {
     "name": "stdout",
     "output_type": "stream",
     "text": [
      "Fibonacci dictionary for the first 100 numbers:\n",
      "{0: 0, 1: 1, 2: 1, 3: 2, 4: 3, 5: 5, 6: 8, 7: 13, 8: 21, 9: 34, 10: 55, 11: 89, 12: 144, 13: 233, 14: 377, 15: 610, 16: 987, 17: 1597, 18: 2584, 19: 4181, 20: 6765, 21: 10946, 22: 17711, 23: 28657, 24: 46368, 25: 75025, 26: 121393, 27: 196418, 28: 317811, 29: 514229, 30: 832040, 31: 1346269, 32: 2178309, 33: 3524578, 34: 5702887, 35: 9227465, 36: 14930352, 37: 24157817, 38: 39088169, 39: 63245986, 40: 102334155, 41: 165580141, 42: 267914296, 43: 433494437, 44: 701408733, 45: 1134903170, 46: 1836311903, 47: 2971215073, 48: 4807526976, 49: 7778742049, 50: 12586269025, 51: 20365011074, 52: 32951280099, 53: 53316291173, 54: 86267571272, 55: 139583862445, 56: 225851433717, 57: 365435296162, 58: 591286729879, 59: 956722026041, 60: 1548008755920, 61: 2504730781961, 62: 4052739537881, 63: 6557470319842, 64: 10610209857723, 65: 17167680177565, 66: 27777890035288, 67: 44945570212853, 68: 72723460248141, 69: 117669030460994, 70: 190392490709135, 71: 308061521170129, 72: 498454011879264, 73: 806515533049393, 74: 1304969544928657, 75: 2111485077978050, 76: 3416454622906707, 77: 5527939700884757, 78: 8944394323791464, 79: 14472334024676221, 80: 23416728348467685, 81: 37889062373143906, 82: 61305790721611591, 83: 99194853094755497, 84: 160500643816367088, 85: 259695496911122585, 86: 420196140727489673, 87: 679891637638612258, 88: 1100087778366101931, 89: 1779979416004714189, 90: 2880067194370816120, 91: 4660046610375530309, 92: 7540113804746346429, 93: 12200160415121876738, 94: 19740274219868223167, 95: 31940434634990099905, 96: 51680708854858323072, 97: 83621143489848422977, 98: 135301852344706746049, 99: 218922995834555169026}\n"
     ]
    }
   ],
   "source": [
    "def generate_fibonacci_dict(n):\n",
    "    fibonacci_dict = {}\n",
    "    a, b = 0, 1\n",
    "\n",
    "    for i in range(n):\n",
    "        fibonacci_dict[i] = a\n",
    "        a, b = b, a + b\n",
    "\n",
    "    return fibonacci_dict\n",
    "\n",
    "\n",
    "n = 100  \n",
    "fibonacci_dict = generate_fibonacci_dict(n)\n",
    "print(f\"Fibonacci dictionary for the first {n} numbers:\")\n",
    "print(fibonacci_dict)"
   ]
  },
  {
   "cell_type": "code",
   "execution_count": null,
   "id": "c35b7133",
   "metadata": {},
   "outputs": [],
   "source": []
  }
 ],
 "metadata": {
  "kernelspec": {
   "display_name": "Python 3 (ipykernel)",
   "language": "python",
   "name": "python3"
  },
  "language_info": {
   "codemirror_mode": {
    "name": "ipython",
    "version": 3
   },
   "file_extension": ".py",
   "mimetype": "text/x-python",
   "name": "python",
   "nbconvert_exporter": "python",
   "pygments_lexer": "ipython3",
   "version": "3.11.5"
  }
 },
 "nbformat": 4,
 "nbformat_minor": 5
}
